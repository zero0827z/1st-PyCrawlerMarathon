{
 "cells": [
  {
   "cell_type": "markdown",
   "metadata": {},
   "source": [
    "# 加速：非同步爬蟲\n",
    "\n",
    "* 了解非同步爬蟲加速原理與實作"
   ]
  },
  {
   "cell_type": "markdown",
   "metadata": {},
   "source": [
    "## 作業目標\n",
    "\n",
    "* 比較一下非同步爬蟲跟多線程爬蟲的差異是什麼？各自的優缺點為何？"
   ]
  },
  {
   "cell_type": "code",
   "execution_count": 5,
   "metadata": {
    "scrolled": true
   },
   "outputs": [
    {
     "name": "stdout",
     "output_type": "stream",
     "text": [
      "多線程爬蟲:會將爬蟲程序分成兩個平行程序進行用以加速完成，但僅使用單個CPU核心處理\n",
      "非同步爬蟲:不須等待前一步驟完成就進行下一步，但因為是非同步，當出現錯誤時需要回頭更改程式的指令難度比較高\n"
     ]
    }
   ],
   "source": [
    "'''\n",
    "Your Input\n",
    "'''\n",
    "print('多線程爬蟲:會將爬蟲程序分成兩個平行程序進行用以加速完成，但僅使用單個CPU核心處理')\n",
    "print('非同步爬蟲:不須等待前一步驟完成就進行下一步，但因為是非同步，當出現錯誤時需要回頭更改程式的指令難度比較高')"
   ]
  },
  {
   "cell_type": "code",
   "execution_count": null,
   "metadata": {},
   "outputs": [],
   "source": []
  }
 ],
 "metadata": {
  "colab": {
   "name": "homework.ipynb",
   "provenance": []
  },
  "kernelspec": {
   "display_name": "Python 3",
   "language": "python",
   "name": "python3"
  },
  "language_info": {
   "codemirror_mode": {
    "name": "ipython",
    "version": 3
   },
   "file_extension": ".py",
   "mimetype": "text/x-python",
   "name": "python",
   "nbconvert_exporter": "python",
   "pygments_lexer": "ipython3",
   "version": "3.7.4"
  }
 },
 "nbformat": 4,
 "nbformat_minor": 1
}
