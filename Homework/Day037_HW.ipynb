{
 "cells": [
  {
   "cell_type": "markdown",
   "metadata": {},
   "source": [
    "# 自動化更新機制\n",
    "\n",
    "\n",
    "* 如何定期執行爬蟲程式\n",
    "* 更新時需要注意的事情是什麼？\n"
   ]
  },
  {
   "cell_type": "markdown",
   "metadata": {},
   "source": [
    "## 作業目標\n",
    "\n",
    "* 列舉一個是需要用自動化更新的機制來達成的爬蟲應用。"
   ]
  },
  {
   "cell_type": "code",
   "execution_count": 1,
   "metadata": {},
   "outputs": [
    {
     "name": "stdout",
     "output_type": "stream",
     "text": [
      "像是股票的價格跟Ask&bid，可以提供我們及時判斷技術指標所需的資料及需要自動化更新\n"
     ]
    }
   ],
   "source": [
    "'''\n",
    "Your Input \n",
    "'''\n",
    "print('像是股票的價格跟Ask&bid，可以提供我們及時判斷技術指標所需的資料及需要自動化更新')"
   ]
  },
  {
   "cell_type": "code",
   "execution_count": null,
   "metadata": {},
   "outputs": [],
   "source": []
  }
 ],
 "metadata": {
  "colab": {
   "name": "homework.ipynb",
   "provenance": []
  },
  "kernelspec": {
   "display_name": "Python 3",
   "language": "python",
   "name": "python3"
  },
  "language_info": {
   "codemirror_mode": {
    "name": "ipython",
    "version": 3
   },
   "file_extension": ".py",
   "mimetype": "text/x-python",
   "name": "python",
   "nbconvert_exporter": "python",
   "pygments_lexer": "ipython3",
   "version": "3.7.4"
  }
 },
 "nbformat": 4,
 "nbformat_minor": 1
}
