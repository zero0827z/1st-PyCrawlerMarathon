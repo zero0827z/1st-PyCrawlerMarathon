{
 "cells": [
  {
   "cell_type": "code",
   "execution_count": 3,
   "metadata": {},
   "outputs": [],
   "source": [
    "import scrapy\n",
    "import requests\n",
    "from bs4 import BeautifulSoup\n",
    "import pandas as pd"
   ]
  },
  {
   "cell_type": "code",
   "execution_count": 5,
   "metadata": {},
   "outputs": [],
   "source": [
    "class PttcrawlerSpider(scrapy.Spider):\n",
    "    name='Pttcrawler'\n",
    "    allowed_domains=['www.ppt.cc']\n",
    "    start_url=['https://www.ptt.cc/bbs/MH/M.1577706391.A.36E.html']\n",
    "    \n",
    "    def start_requests(self):\n",
    "        for url in self.start_url:\n",
    "            yield scrapy.Request(url=url, callback=self.parse)\n",
    "    \n",
    "    def parse(self, response):\n",
    "        soup = BeautifulSoup(response, \"html5lib\")\n",
    "        words=[]\n",
    "        for d in soup.find_all(class_=\"r-ent\"):\n",
    "            print(d.text.replace('\\t', '').replace('\\n', ''))\n",
    "            print('作者: ' + d.find(class_='author').text,'標題: ' + d.find(class_='title').text,'日期: ' + d.find(class_='date').text)\n",
    "            words.append([d.find(class_='author').text.replace('\\t', '').replace('\\n', ''),d.find(class_='title').text.replace('\\t', '').replace('\\n', ''),d.find(class_='date').text.replace('\\t', '').replace('\\n', '')])\n",
    "        \n",
    "        columns=['作者','標題','時間']\n",
    "        table=pd.DataFrame(words,columns=columns)\n",
    "        yield table\n",
    "        \n",
    "        "
   ]
  },
  {
   "cell_type": "code",
   "execution_count": null,
   "metadata": {},
   "outputs": [],
   "source": []
  }
 ],
 "metadata": {
  "kernelspec": {
   "display_name": "Python 3",
   "language": "python",
   "name": "python3"
  },
  "language_info": {
   "codemirror_mode": {
    "name": "ipython",
    "version": 3
   },
   "file_extension": ".py",
   "mimetype": "text/x-python",
   "name": "python",
   "nbconvert_exporter": "python",
   "pygments_lexer": "ipython3",
   "version": "3.7.3"
  }
 },
 "nbformat": 4,
 "nbformat_minor": 2
}
