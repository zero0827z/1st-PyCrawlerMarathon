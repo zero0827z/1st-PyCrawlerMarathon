{
 "cells": [
  {
   "cell_type": "code",
   "execution_count": 1,
   "metadata": {},
   "outputs": [],
   "source": [
    "import scrapy\n",
    "import requests\n",
    "import json"
   ]
  },
  {
   "cell_type": "code",
   "execution_count": 4,
   "metadata": {},
   "outputs": [],
   "source": [
    "class Product(scrapy.Item):\n",
    "    name=scrapy.Field()\n",
    "    price= scrapy.Field()\n",
    "    last_updated=scrapy.Field()\n",
    "    \n",
    "class JSONPipeline(object):\n",
    "    def process_item(self, item, spider):\n",
    "        line = json.dumps(dict(item))+\"\\n\"\n",
    "        self.file.write(line)\n",
    "        return item\n",
    "    def open_spider(self, spider):\n",
    "        print('start')\n",
    "        self.file=open('example.txt','w')\n",
    "    def close_spider(self, spider):\n",
    "        self.file.close()\n",
    "        print('close')\n"
   ]
  },
  {
   "cell_type": "code",
   "execution_count": null,
   "metadata": {},
   "outputs": [],
   "source": []
  }
 ],
 "metadata": {
  "kernelspec": {
   "display_name": "Python 3",
   "language": "python",
   "name": "python3"
  },
  "language_info": {
   "codemirror_mode": {
    "name": "ipython",
    "version": 3
   },
   "file_extension": ".py",
   "mimetype": "text/x-python",
   "name": "python",
   "nbconvert_exporter": "python",
   "pygments_lexer": "ipython3",
   "version": "3.7.3"
  }
 },
 "nbformat": 4,
 "nbformat_minor": 2
}
